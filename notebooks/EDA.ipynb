{
 "cells": [
  {
   "cell_type": "code",
   "execution_count": 1,
   "metadata": {},
   "outputs": [
    {
     "ename": "ModuleNotFoundError",
     "evalue": "No module named 'matplotlib'",
     "output_type": "error",
     "traceback": [
      "\u001b[1;31m---------------------------------------------------------------------------\u001b[0m",
      "\u001b[1;31mModuleNotFoundError\u001b[0m                       Traceback (most recent call last)",
      "Cell \u001b[1;32mIn[1], line 6\u001b[0m\n\u001b[0;32m      4\u001b[0m \u001b[38;5;28;01mimport\u001b[39;00m \u001b[38;5;21;01mplotly\u001b[39;00m\u001b[38;5;21;01m.\u001b[39;00m\u001b[38;5;21;01mexpress\u001b[39;00m \u001b[38;5;28;01mas\u001b[39;00m \u001b[38;5;21;01mpy\u001b[39;00m\n\u001b[0;32m      5\u001b[0m \u001b[38;5;28;01mimport\u001b[39;00m \u001b[38;5;21;01mnumpy\u001b[39;00m \u001b[38;5;28;01mas\u001b[39;00m \u001b[38;5;21;01mnp\u001b[39;00m\n\u001b[1;32m----> 6\u001b[0m \u001b[38;5;28;01mfrom\u001b[39;00m \u001b[38;5;21;01mmatplotlib\u001b[39;00m \u001b[38;5;28;01mimport\u001b[39;00m pyplot \u001b[38;5;28;01mas\u001b[39;00m plt\n\u001b[0;32m      8\u001b[0m vehicles \u001b[38;5;241m=\u001b[39m pd\u001b[38;5;241m.\u001b[39mread_csv(\u001b[38;5;124m\"\u001b[39m\u001b[38;5;124mC:/Users/Furkan/Usvehicledata/vehicles_us.csv\u001b[39m\u001b[38;5;124m\"\u001b[39m)\n",
      "\u001b[1;31mModuleNotFoundError\u001b[0m: No module named 'matplotlib'"
     ]
    }
   ],
   "source": [
    "import pandas as pd\n",
    "import streamlit as st\n",
    "import altair as at\n",
    "import plotly.express as py\n",
    "import numpy as np\n",
    "from matplotlib import pyplot as plt\n",
    "import  requests\n",
    "\n"
   ]
  },
  {
   "cell_type": "code",
   "execution_count": null,
   "metadata": {},
   "outputs": [
    {
     "name": "stdout",
     "output_type": "stream",
     "text": [
      "   price  model_year           model  condition  cylinders fuel  odometer  \\\n",
      "0   9400      2011.0          bmw x5       good        6.0  gas  145000.0   \n",
      "1  25500         NaN      ford f-150       good        6.0  gas   88705.0   \n",
      "2   5500      2013.0  hyundai sonata   like new        4.0  gas  110000.0   \n",
      "3   1500      2003.0      ford f-150       fair        8.0  gas       NaN   \n",
      "4  14900      2017.0    chrysler 200  excellent        4.0  gas   80903.0   \n",
      "5  14990      2014.0    chrysler 300  excellent        6.0  gas   57954.0   \n",
      "6  12990      2015.0    toyota camry  excellent        4.0  gas   79212.0   \n",
      "7  15990      2013.0     honda pilot  excellent        6.0  gas  109473.0   \n",
      "8  11500      2012.0     kia sorento  excellent        4.0  gas  104174.0   \n",
      "9   9200      2008.0     honda pilot  excellent        NaN  gas  147191.0   \n",
      "\n",
      "  transmission    type paint_color  is_4wd date_posted  days_listed  \n",
      "0    automatic     SUV         NaN     1.0  2018-06-23           19  \n",
      "1    automatic  pickup       white     1.0  2018-10-19           50  \n",
      "2    automatic   sedan         red     NaN  2019-02-07           79  \n",
      "3    automatic  pickup         NaN     NaN  2019-03-22            9  \n",
      "4    automatic   sedan       black     NaN  2019-04-02           28  \n",
      "5    automatic   sedan       black     1.0  2018-06-20           15  \n",
      "6    automatic   sedan       white     NaN  2018-12-27           73  \n",
      "7    automatic     SUV       black     1.0  2019-01-07           68  \n",
      "8    automatic     SUV         NaN     1.0  2018-07-16           19  \n",
      "9    automatic     SUV        blue     1.0  2019-02-15           17  \n"
     ]
    },
    {
     "data": {
      "text/plain": [
       "0"
      ]
     },
     "execution_count": 53,
     "metadata": {},
     "output_type": "execute_result"
    }
   ],
   "source": [
    "\n",
    "base_url = \"https://raw.githubusercontent.com/\"\n",
    "url  = base_url + \"fbahat/Usvehicledata/main/vehicles_us.csv\"\n",
    "vehicles = pd.read_csv(url)"
   ]
  },
  {
   "cell_type": "markdown",
   "metadata": {},
   "source": [
    "There is no duplicated row."
   ]
  },
  {
   "cell_type": "code",
   "execution_count": null,
   "metadata": {},
   "outputs": [
    {
     "data": {
      "text/plain": [
       "array(['gas', 'diesel', 'other', 'hybrid', 'electric'], dtype=object)"
      ]
     },
     "execution_count": 54,
     "metadata": {},
     "output_type": "execute_result"
    }
   ],
   "source": [
    "st.header('US CAR PRICE ANALYSIS')"
   ]
  },
  {
   "cell_type": "code",
   "execution_count": null,
   "metadata": {},
   "outputs": [
    {
     "data": {
      "text/plain": [
       "DeltaGenerator()"
      ]
     },
     "execution_count": 55,
     "metadata": {},
     "output_type": "execute_result"
    }
   ],
   "source": [
    "show_data = st.checkbox('Show Dataset')\n",
    "if show_data:\n",
    "    st.write(vehicles)\n",
    "# Histogram of price\n",
    "price_histogram = py.histogram(vehicles, x='price', nbins=20, title='Price Distribution')\n",
    "show_price_histogram = st.checkbox('Show Price Distribution Histogram')\n",
    "if show_price_histogram:\n",
    "    st.plotly_chart(price_histogram)"
   ]
  },
  {
   "cell_type": "code",
   "execution_count": null,
   "metadata": {},
   "outputs": [],
   "source": [
    "\n",
    "# Histogram of odometer\n",
    "odometer_histogram = py.histogram(vehicles, x='odometer', nbins=20, title='Odometer Distribution')\n",
    "show_odometer_histogram = st.checkbox('Show Odometer Distribution Histogram')\n",
    "if show_odometer_histogram:\n",
    "    st.plotly_chart(odometer_histogram)"
   ]
  },
  {
   "cell_type": "code",
   "execution_count": null,
   "metadata": {},
   "outputs": [],
   "source": [
    "# Scatterplot of price vs odometer\n",
    "price_vs_odometer_scatter = py.scatter(vehicles, x='price', y='odometer', title='Price vs Odometer')\n",
    "show_price_vs_odometer_scatter = st.checkbox('Show Price vs Odometer Scatterplot')\n",
    "if show_price_vs_odometer_scatter:\n",
    "    st.plotly_chart(price_vs_odometer_scatter)"
   ]
  },
  {
   "cell_type": "code",
   "execution_count": null,
   "metadata": {},
   "outputs": [],
   "source": [
    "# Scatterplot of price vs model_year\n",
    "price_vs_model_year_scatter = py.scatter(vehicles, x='price', y='model_year', title='Price vs Model Year')\n",
    "show_price_vs_model_year_scatter = st.checkbox('Show Price vs Model Year Scatterplot')\n",
    "if show_price_vs_model_year_scatter:\n",
    "    st.plotly_chart(price_vs_model_year_scatter)"
   ]
  },
  {
   "cell_type": "code",
   "execution_count": null,
   "metadata": {},
   "outputs": [],
   "source": [
    "\n",
    "# Vehicle condition by model year\n",
    "vehicle_types = py.scatter(vehicles, x='condition', y='model_year', title='Price vs Model Year')\n",
    "vehicle_types_show = st.checkbox('Show Condition vs Model Year Scatterplot')\n",
    "if vehicle_types_show:\n",
    "    st.plotly_chart(vehicle_types)"
   ]
  },
  {
   "cell_type": "code",
   "execution_count": null,
   "metadata": {},
   "outputs": [],
   "source": [
    "# Check for missing values in 'model' column\n",
    "if vehicles['model'].isnull().any():\n",
    "    st.error(\"There are missing values in the 'model' column. Please clean the data and try again.\")\n",
    "else:\n",
    "    # Check if 'model' column contains strings\n",
    "    if not vehicles['model'].apply(lambda x: isinstance(x, str)).all():\n",
    "        st.error(\"The 'model' column contains non-string values. Please clean the data and try again.\")\n",
    "    else:\n",
    "        # Split 'model' column into 'manufacturer' and 'model'\n",
    "        vehicles[['manufacturer', 'model']] = vehicles['model'].str.split(n=1, expand=True)\n",
    "\n",
    "        # Group by manufacturer and get unique vehicle types\n",
    "        vehicle_types_by_manufacturer = vehicles.groupby(['manufacturer', 'model'])['type'].unique().reset_index()\n",
    "\n",
    "        # Plot the chart\n",
    "        st.header(\"Vehicle Types by Manufacturer\")\n",
    "        fig = py.bar(vehicle_types_by_manufacturer, x='manufacturer',\n",
    "                    y=vehicle_types_by_manufacturer['type'].apply(lambda x: len(x)),\n",
    "                    color='model',\n",
    "                    title=\"Vehicle Types by Manufacturer\",\n",
    "                    labels={'manufacturer':'Manufacturer', 'type':'Number of Vehicle Types', 'model': 'Model'})\n",
    "        st.plotly_chart(fig)\n"
   ]
  },
  {
   "cell_type": "code",
   "execution_count": null,
   "metadata": {},
   "outputs": [],
   "source": [
    "# Check for missing values in 'model' and 'type' columns\n",
    "missing_values = vehicles[['model', 'type']].isnull().any()\n",
    "if missing_values.any():\n",
    "    st.error(\"There are missing values in the dataset. Please clean the data and try again.\")\n",
    "else:\n",
    "    # Group by manufacturer and get unique vehicle types\n",
    "    vehicle_types_by_manufacturer = vehicles.groupby('model')['type'].unique().reset_index()\n",
    "\n",
    "    # Plot the chart\n",
    "    st.header(\"Comparison of Vehicle Brands with Their Types\")\n",
    "    fig = py.bar(vehicle_types_by_manufacturer, x='model',\n",
    "                 y=vehicle_types_by_manufacturer['type'].apply(lambda x: len(x)),\n",
    "                 title=\"Comparison of Vehicle Brands with Their Types\",\n",
    "                 labels={'model': 'Manufacturer', 'type': 'Number of Vehicle Types'})\n",
    "    st.plotly_chart(fig)"
   ]
  }
 ],
 "metadata": {
  "kernelspec": {
   "display_name": "Python 3",
   "language": "python",
   "name": "python3"
  },
  "language_info": {
   "codemirror_mode": {
    "name": "ipython",
    "version": 3
   },
   "file_extension": ".py",
   "mimetype": "text/x-python",
   "name": "python",
   "nbconvert_exporter": "python",
   "pygments_lexer": "ipython3",
   "version": "3.12.2"
  }
 },
 "nbformat": 4,
 "nbformat_minor": 2
}
