{
 "cells": [
  {
   "cell_type": "code",
   "execution_count": 1,
   "metadata": {},
   "outputs": [],
   "source": [
    "import pandas as pd\n",
    "import streamlit as st\n",
    "import altair as at\n",
    "import plotly.express as py\n",
    "import numpy as np\n",
    "import  requests\n",
    "\n"
   ]
  },
  {
   "cell_type": "code",
   "execution_count": 2,
   "metadata": {},
   "outputs": [],
   "source": [
    "\n",
    "base_url = \"https://raw.githubusercontent.com/\"\n",
    "url  = base_url + \"fbahat/Usvehicledata/main/vehicles_us.csv\"\n",
    "vehicles = pd.read_csv(url)"
   ]
  },
  {
   "cell_type": "markdown",
   "metadata": {},
   "source": [
    "There is no duplicated row."
   ]
  },
  {
   "cell_type": "code",
   "execution_count": 3,
   "metadata": {},
   "outputs": [
    {
     "name": "stderr",
     "output_type": "stream",
     "text": [
      "2024-03-09 11:14:39.535 \n",
      "  \u001b[33m\u001b[1mWarning:\u001b[0m to view this Streamlit app on a browser, run it with the following\n",
      "  command:\n",
      "\n",
      "    streamlit run C:\\Users\\Furkan\\AppData\\Local\\Packages\\PythonSoftwareFoundation.Python.3.12_qbz5n2kfra8p0\\LocalCache\\local-packages\\Python312\\site-packages\\ipykernel_launcher.py [ARGUMENTS]\n"
     ]
    },
    {
     "data": {
      "text/plain": [
       "DeltaGenerator()"
      ]
     },
     "execution_count": 3,
     "metadata": {},
     "output_type": "execute_result"
    }
   ],
   "source": [
    "st.header('US CAR PRICE ANALYSIS')"
   ]
  },
  {
   "cell_type": "code",
   "execution_count": 4,
   "metadata": {},
   "outputs": [],
   "source": [
    "show_data = st.checkbox('Show Dataset')\n",
    "if show_data:\n",
    "    st.write(vehicles)\n",
    "# Histogram of price\n",
    "price_histogram = py.histogram(vehicles, x='price', nbins=20, title='Price Distribution')\n",
    "show_price_histogram = st.checkbox('Show Price Distribution Histogram')\n",
    "if show_price_histogram:\n",
    "    st.plotly_chart(price_histogram)"
   ]
  },
  {
   "cell_type": "code",
   "execution_count": 5,
   "metadata": {},
   "outputs": [],
   "source": [
    "\n",
    "# Histogram of odometer\n",
    "odometer_histogram = py.histogram(vehicles, x='odometer', nbins=20, title='Odometer Distribution')\n",
    "show_odometer_histogram = st.checkbox('Show Odometer Distribution Histogram')\n",
    "if show_odometer_histogram:\n",
    "    st.plotly_chart(odometer_histogram)"
   ]
  },
  {
   "cell_type": "code",
   "execution_count": 6,
   "metadata": {},
   "outputs": [],
   "source": [
    "# Scatterplot of price vs odometer\n",
    "price_vs_odometer_scatter = py.scatter(vehicles, x='price', y='odometer', title='Price vs Odometer')\n",
    "show_price_vs_odometer_scatter = st.checkbox('Show Price vs Odometer Scatterplot')\n",
    "if show_price_vs_odometer_scatter:\n",
    "    st.plotly_chart(price_vs_odometer_scatter)"
   ]
  },
  {
   "cell_type": "code",
   "execution_count": 7,
   "metadata": {},
   "outputs": [],
   "source": [
    "# Scatterplot of price vs model_year\n",
    "price_vs_model_year_scatter = py.scatter(vehicles, x='price', y='model_year', title='Price vs Model Year')\n",
    "show_price_vs_model_year_scatter = st.checkbox('Show Price vs Model Year Scatterplot')\n",
    "if show_price_vs_model_year_scatter:\n",
    "    st.plotly_chart(price_vs_model_year_scatter)"
   ]
  },
  {
   "cell_type": "code",
   "execution_count": 8,
   "metadata": {},
   "outputs": [],
   "source": [
    "\n",
    "# Vehicle condition by model year\n",
    "vehicle_types = py.scatter(vehicles, x='condition', y='model_year', title='Price vs Model Year')\n",
    "vehicle_types_show = st.checkbox('Show Condition vs Model Year Scatterplot')\n",
    "if vehicle_types_show:\n",
    "    st.plotly_chart(vehicle_types)"
   ]
  },
  {
   "cell_type": "code",
   "execution_count": 9,
   "metadata": {},
   "outputs": [],
   "source": [
    "# Check for missing values in 'model' column\n",
    "if vehicles['model'].isnull().any():\n",
    "    st.error(\"There are missing values in the 'model' column. Please clean the data and try again.\")\n",
    "else:\n",
    "    # Check if 'model' column contains strings\n",
    "    if not vehicles['model'].apply(lambda x: isinstance(x, str)).all():\n",
    "        st.error(\"The 'model' column contains non-string values. Please clean the data and try again.\")\n",
    "    else:\n",
    "        # Split 'model' column into 'manufacturer' and 'model'\n",
    "        vehicles[['manufacturer', 'model']] = vehicles['model'].str.split(n=1, expand=True)\n",
    "\n",
    "        # Group by manufacturer and get unique vehicle types\n",
    "        vehicle_types_by_manufacturer = vehicles.groupby(['manufacturer', 'model'])['type'].unique().reset_index()\n",
    "\n",
    "        # Plot the chart\n",
    "        st.header(\"Vehicle Types by Manufacturer\")\n",
    "        fig = py.bar(vehicle_types_by_manufacturer, x='manufacturer',\n",
    "                    y=vehicle_types_by_manufacturer['type'].apply(lambda x: len(x)),\n",
    "                    color='model',\n",
    "                    title=\"Vehicle Types by Manufacturer\",\n",
    "                    labels={'manufacturer':'Manufacturer', 'type':'Number of Vehicle Types', 'model': 'Model'})\n",
    "        st.plotly_chart(fig)\n"
   ]
  },
  {
   "cell_type": "code",
   "execution_count": 10,
   "metadata": {},
   "outputs": [],
   "source": [
    "# Check for missing values in 'model' and 'type' columns\n",
    "missing_values = vehicles[['model', 'type']].isnull().any()\n",
    "if missing_values.any():\n",
    "    st.error(\"There are missing values in the dataset. Please clean the data and try again.\")\n",
    "else:\n",
    "    # Group by manufacturer and get unique vehicle types\n",
    "    vehicle_types_by_manufacturer = vehicles.groupby('model')['type'].unique().reset_index()\n",
    "\n",
    "    # Plot the chart\n",
    "    st.header(\"Comparison of Vehicle Brands with Their Types\")\n",
    "    fig = py.bar(vehicle_types_by_manufacturer, x='model',\n",
    "                 y=vehicle_types_by_manufacturer['type'].apply(lambda x: len(x)),\n",
    "                 title=\"Comparison of Vehicle Brands with Their Types\",\n",
    "                 labels={'model': 'Manufacturer', 'type': 'Number of Vehicle Types'})\n",
    "    st.plotly_chart(fig)"
   ]
  }
 ],
 "metadata": {
  "kernelspec": {
   "display_name": "Python 3",
   "language": "python",
   "name": "python3"
  },
  "language_info": {
   "codemirror_mode": {
    "name": "ipython",
    "version": 3
   },
   "file_extension": ".py",
   "mimetype": "text/x-python",
   "name": "python",
   "nbconvert_exporter": "python",
   "pygments_lexer": "ipython3",
   "version": "3.12.2"
  }
 },
 "nbformat": 4,
 "nbformat_minor": 2
}
